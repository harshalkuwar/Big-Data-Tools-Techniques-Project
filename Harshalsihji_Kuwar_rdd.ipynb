{
 "cells": [
  {
   "cell_type": "code",
   "execution_count": 0,
   "metadata": {
    "application/vnd.databricks.v1+cell": {
     "cellMetadata": {
      "byteLimit": 2048000,
      "rowLimit": 10000
     },
     "inputWidgets": {},
     "nuid": "65ffc83e-a687-40cc-a0c1-b20e856f1c4c",
     "showTitle": false,
     "title": ""
    }
   },
   "outputs": [],
   "source": [
    "# Defines the Clinical Year Version\n",
    "\n",
    "YEAR = 2023\n",
    "year = str(YEAR)"
   ]
  },
  {
   "cell_type": "code",
   "execution_count": 0,
   "metadata": {
    "application/vnd.databricks.v1+cell": {
     "cellMetadata": {
      "byteLimit": 2048000,
      "rowLimit": 10000
     },
     "inputWidgets": {},
     "nuid": "82e290f5-bc95-4430-aae7-77e6e2f42828",
     "showTitle": false,
     "title": ""
    }
   },
   "outputs": [],
   "source": [
    "# Shell - Defines the Clinical Year Version\n",
    "\n",
    "import os\n",
    "os.environ['year'] = year"
   ]
  },
  {
   "cell_type": "code",
   "execution_count": 0,
   "metadata": {
    "application/vnd.databricks.v1+cell": {
     "cellMetadata": {
      "byteLimit": 2048000,
      "rowLimit": 10000
     },
     "inputWidgets": {},
     "nuid": "380a5d26-adf2-455a-a365-74dfabf03e25",
     "showTitle": false,
     "title": ""
    }
   },
   "outputs": [],
   "source": [
    "# Creates a User-Defined Function to Check for the 'clinicaltrial_<year>' & 'pharma' Files\n",
    "\n",
    "def check_file(files, path):\n",
    "    file_list = [dbutils.fs.ls(f\"{path}/{file}\") for file in files]\n",
    "    for name, is_present in zip(files, file_list):\n",
    "        if len(is_present) > 0:\n",
    "            print(f\"{name} is present in {path}/\")\n",
    "        else:\n",
    "            print(f\"{name} is not present in {path}/\")"
   ]
  },
  {
   "cell_type": "code",
   "execution_count": 0,
   "metadata": {
    "application/vnd.databricks.v1+cell": {
     "cellMetadata": {
      "byteLimit": 2048000,
      "rowLimit": 10000
     },
     "inputWidgets": {},
     "nuid": "4efd57dc-e55c-4d9c-a239-15d306e83d31",
     "showTitle": false,
     "title": ""
    }
   },
   "outputs": [
    {
     "output_type": "stream",
     "name": "stdout",
     "output_type": "stream",
     "text": [
      "clinicaltrial_2023.zip is present in /FileStore/tables/\npharma.zip is present in /FileStore/tables/\n"
     ]
    }
   ],
   "source": [
    "# Checks for the 'clinicaltrial_<year>' & 'pharma' ZIPs\n",
    "\n",
    "path = \"/FileStore/tables\"\n",
    "files = [\"clinicaltrial_\" + year + \".zip\", \"pharma.zip\"]\n",
    "check_file(files, path)"
   ]
  },
  {
   "cell_type": "code",
   "execution_count": 0,
   "metadata": {
    "application/vnd.databricks.v1+cell": {
     "cellMetadata": {
      "byteLimit": 2048000,
      "rowLimit": 10000
     },
     "inputWidgets": {},
     "nuid": "f50a7af9-4f22-4a06-a4c9-9533f9f9869a",
     "showTitle": false,
     "title": ""
    }
   },
   "outputs": [],
   "source": [
    "# Clears the Existing CSVs in /FileStore/tables/ to Avoid Errors\n",
    "\n",
    "deleted_file = [  \n",
    "    \"/FileStore/tables/clinicaltrial_\" + year + \".csv\",  \n",
    "    \"/FileStore/tables/pharma.csv\",\n",
    "    \"/FileStore/tables/Q2_Output.csv\",  \n",
    "    \"/FileStore/tables/Q3_Output.csv\",  \n",
    "    \"/FileStore/tables/Q4_Output.csv\",  \n",
    "    \"/FileStore/tables/Q5_Output.csv\",\n",
    "    \"/FileStore/tables/clinicaltrial\" + year + \".csv\"]\n",
    "\n",
    "for delete in deleted_file:\n",
    "    dbutils.fs.rm(delete, True)"
   ]
  },
  {
   "cell_type": "code",
   "execution_count": 0,
   "metadata": {
    "application/vnd.databricks.v1+cell": {
     "cellMetadata": {
      "byteLimit": 2048000,
      "rowLimit": 10000
     },
     "inputWidgets": {},
     "nuid": "0410cf4b-dd60-4ccb-8fe9-adca490188c2",
     "showTitle": false,
     "title": ""
    }
   },
   "outputs": [],
   "source": [
    "# Shell - Clears the Existing CSVs & ZIPs in TEMP to Avoid Errors"
   ]
  },
  {
   "cell_type": "code",
   "execution_count": 0,
   "metadata": {
    "application/vnd.databricks.v1+cell": {
     "cellMetadata": {
      "byteLimit": 2048000,
      "rowLimit": 10000
     },
     "inputWidgets": {},
     "nuid": "3f3333ba-4be9-49f0-b934-ad4b4929e2b9",
     "showTitle": false,
     "title": ""
    }
   },
   "outputs": [
    {
     "output_type": "stream",
     "name": "stderr",
     "output_type": "stream",
     "text": [
      "rm: cannot remove '/tmp/clinicaltrial_2023.zip': No such file or directory\nrm: cannot remove '/tmp/clinicaltrial_2023.csv': No such file or directory\nrm: cannot remove '/tmp/pharma.zip': No such file or directory\nrm: cannot remove '/tmp/pharma.csv': No such file or directory\n"
     ]
    }
   ],
   "source": [
    "%sh \n",
    "rm /tmp/clinicaltrial_$year.zip\n",
    "rm /tmp/clinicaltrial_$year.csv\n",
    "rm /tmp/pharma.zip\n",
    "rm /tmp/pharma.csv"
   ]
  },
  {
   "cell_type": "code",
   "execution_count": 0,
   "metadata": {
    "application/vnd.databricks.v1+cell": {
     "cellMetadata": {
      "byteLimit": 2048000,
      "rowLimit": 10000
     },
     "inputWidgets": {},
     "nuid": "4078e0c1-9522-4ba7-931d-9b0dab35b3b7",
     "showTitle": false,
     "title": ""
    }
   },
   "outputs": [
    {
     "output_type": "execute_result",
     "data": {
      "text/plain": [
       "True"
      ]
     },
     "execution_count": 8,
     "metadata": {},
     "output_type": "execute_result"
    }
   ],
   "source": [
    "# Copies the ZIPs from /FileStore/tables/ to TEMP\n",
    "\n",
    "dbutils.fs.cp(\"/FileStore/tables/clinicaltrial_\" + year + \".zip\", \"file:/tmp/\")\n",
    "dbutils.fs.cp(\"/FileStore/tables/pharma.zip\" , \"file:/tmp/\")"
   ]
  },
  {
   "cell_type": "code",
   "execution_count": 0,
   "metadata": {
    "application/vnd.databricks.v1+cell": {
     "cellMetadata": {
      "byteLimit": 2048000,
      "rowLimit": 10000
     },
     "inputWidgets": {},
     "nuid": "3759d740-0a90-48ed-93f4-3e1eb1975385",
     "showTitle": false,
     "title": ""
    }
   },
   "outputs": [],
   "source": [
    "# Shell - Checks for the 'clinicaltrial_<year>' & 'pharma' ZIPs in TEMP then Unzips"
   ]
  },
  {
   "cell_type": "code",
   "execution_count": 0,
   "metadata": {
    "application/vnd.databricks.v1+cell": {
     "cellMetadata": {
      "byteLimit": 2048000,
      "rowLimit": 10000
     },
     "inputWidgets": {},
     "nuid": "589715af-ba73-4dc1-8871-56e02984af08",
     "showTitle": false,
     "title": ""
    }
   },
   "outputs": [
    {
     "output_type": "stream",
     "name": "stdout",
     "output_type": "stream",
     "text": [
      "/tmp/clinicaltrial_2023.zip\n/tmp/pharma.zip\n"
     ]
    }
   ],
   "source": [
    "%sh\n",
    "ls /tmp/clinicaltrial_$year.zip\n",
    "ls /tmp/pharma.zip"
   ]
  },
  {
   "cell_type": "code",
   "execution_count": 0,
   "metadata": {
    "application/vnd.databricks.v1+cell": {
     "cellMetadata": {
      "byteLimit": 2048000,
      "rowLimit": 10000
     },
     "inputWidgets": {},
     "nuid": "1ed9e494-6527-4b37-8dd7-742d2558440c",
     "showTitle": false,
     "title": ""
    }
   },
   "outputs": [
    {
     "output_type": "stream",
     "name": "stdout",
     "output_type": "stream",
     "text": [
      "Archive:  /tmp/clinicaltrial_2023.zip\n  inflating: /tmp/clinicaltrial_2023.csv  \nArchive:  /tmp/pharma.zip\n  inflating: /tmp/pharma.csv         \n"
     ]
    }
   ],
   "source": [
    "%sh\n",
    "unzip -d/tmp/ /tmp/clinicaltrial_$year.zip\n",
    "unzip -d/tmp/ /tmp/pharma.zip"
   ]
  },
  {
   "cell_type": "code",
   "execution_count": 0,
   "metadata": {
    "application/vnd.databricks.v1+cell": {
     "cellMetadata": {
      "byteLimit": 2048000,
      "rowLimit": 10000
     },
     "inputWidgets": {},
     "nuid": "5873a3c2-f20d-4680-9978-b5d17217ee39",
     "showTitle": false,
     "title": ""
    }
   },
   "outputs": [
    {
     "output_type": "execute_result",
     "data": {
      "text/plain": [
       "True"
      ]
     },
     "execution_count": 12,
     "metadata": {},
     "output_type": "execute_result"
    }
   ],
   "source": [
    "# Moves the 'clinicaltrial_<year>' & 'pharma' CSVs from TEMP to /FileStore/tables/\n",
    "\n",
    "dbutils.fs.mv(\"file:/tmp/clinicaltrial_\" + year + \".csv\", \"/FileStore/tables/\", True)\n",
    "dbutils.fs.mv(\"file:/tmp/pharma.csv\", \"/FileStore/tables/\", True)"
   ]
  },
  {
   "cell_type": "code",
   "execution_count": 0,
   "metadata": {
    "application/vnd.databricks.v1+cell": {
     "cellMetadata": {
      "byteLimit": 2048000,
      "rowLimit": 10000
     },
     "inputWidgets": {},
     "nuid": "212672d2-30b1-429a-8990-b57026d655b7",
     "showTitle": false,
     "title": ""
    }
   },
   "outputs": [
    {
     "output_type": "stream",
     "name": "stdout",
     "output_type": "stream",
     "text": [
      "clinicaltrial_2023.csv is present in /FileStore/tables/\npharma.csv is present in /FileStore/tables/\n"
     ]
    }
   ],
   "source": [
    "# Checks for the 'clinicaltrial_<year>' & 'pharma' CSVs\n",
    "\n",
    "path = \"/FileStore/tables\"\n",
    "files = [\"clinicaltrial_\" + year + \".csv\", \"pharma.csv\"]\n",
    "check_file(files, path)"
   ]
  },
  {
   "cell_type": "code",
   "execution_count": 0,
   "metadata": {
    "application/vnd.databricks.v1+cell": {
     "cellMetadata": {
      "byteLimit": 2048000,
      "rowLimit": 10000
     },
     "inputWidgets": {},
     "nuid": "10643c39-06a6-46ac-bc23-d5c59746af07",
     "showTitle": false,
     "title": ""
    }
   },
   "outputs": [],
   "source": [
    "# Define a function to preprocess each line\n",
    "def preprocess_line(line):\n",
    "    # Split the line by '|' delimiter\n",
    "    ans = []\n",
    "    if(YEAR == 2023):\n",
    "        ans = line.split(\"\\t\")\n",
    "    else:\n",
    "        ans = line.split(\"|\")\n",
    "    # for part in parts:\n",
    "    #     ans = ans + (part.split(\"\\t\"))\n",
    "    # ans[0] = ans[0].split('\"')[1]\n",
    "    ans[-1] = ans[-1].split('\"')[0]\n",
    "    return ans"
   ]
  },
  {
   "cell_type": "code",
   "execution_count": 0,
   "metadata": {
    "application/vnd.databricks.v1+cell": {
     "cellMetadata": {
      "byteLimit": 2048000,
      "rowLimit": 10000
     },
     "inputWidgets": {},
     "nuid": "eff1beb0-6ea4-4294-a0ed-6aaa7df1c425",
     "showTitle": false,
     "title": ""
    }
   },
   "outputs": [],
   "source": [
    "# Creates the RDD for 'clinicaltrial_<year>' & 'pharma'\n",
    "\n",
    "clinicaltrial = sc.textFile(\"/FileStore/tables/clinicaltrial_\" + year + \".csv\") \\\n",
    "                .map(preprocess_line)\n",
    "pharma = sc.textFile(\"/FileStore/tables/pharma.csv\") \\\n",
    "                .map(lambda line: line.split(\"\\\",\\\"\"))"
   ]
  },
  {
   "cell_type": "code",
   "execution_count": 0,
   "metadata": {
    "application/vnd.databricks.v1+cell": {
     "cellMetadata": {
      "byteLimit": 2048000,
      "rowLimit": 10000
     },
     "inputWidgets": {},
     "nuid": "25e26e09-2f8b-40d4-81cd-6a4db02d7055",
     "showTitle": false,
     "title": ""
    }
   },
   "outputs": [],
   "source": [
    "if YEAR == 2023:\n",
    "    clinicaltrial = clinicaltrial.filter(lambda x: len(x) == 14)"
   ]
  },
  {
   "cell_type": "code",
   "execution_count": 0,
   "metadata": {
    "application/vnd.databricks.v1+cell": {
     "cellMetadata": {
      "byteLimit": 2048000,
      "rowLimit": 10000
     },
     "inputWidgets": {},
     "nuid": "5473e351-8782-430f-8528-26d4a66310cf",
     "showTitle": false,
     "title": ""
    }
   },
   "outputs": [
    {
     "output_type": "stream",
     "name": "stdout",
     "output_type": "stream",
     "text": [
      "['\"Id', 'Study Title', 'Acronym', 'Status', 'Conditions', 'Interventions', 'Sponsor', 'Collaborators', 'Enrollment', 'Funder Type', 'Type', 'Study Design', 'Start', 'Completion']\n['\"NCT03630471', 'Effectiveness of a Problem-solving Intervention for Common Adolescent Mental Health Problems in India', 'PRIDE', 'COMPLETED', 'Mental Health Issue (E.G.\", Depression, Psychosis, Personality Disorder,\" Substance Abuse)', \"BEHAVIORAL: PRIDE 'Step 1' problem-solving intervention|BEHAVIORAL: Enhanced usual care\", 'Sangath', 'Harvard Medical School (HMS and HSDM)|London School of Hygiene and Tropical Medicine', '250.0', 'OTHER', 'INTERVENTIONAL', 'Allocation: RANDOMIZED|Intervention Model: PARALLEL|Masking: DOUBLE (INVESTIGATOR\",\" OUTCOMES_ASSESSOR)|Primary Purpose: TREATMENT', '2018-08-20', '2019-02-28']\n['\"NCT05992571', 'Oral Ketone Monoester Supplementation and Resting-state Brain Connectivity', '', 'RECRUITING', 'Cerebrovascular Function|Cognition', 'OTHER: Placebo|DIETARY_SUPPLEMENT: β-OHB', 'McMaster University', 'Alzheimer\\'s Society of Brant\", Haldimand Norfolk,\" Hamilton Halton', '30.0', 'OTHER', 'INTERVENTIONAL', 'Allocation: RANDOMIZED|Intervention Model: CROSSOVER|Masking: TRIPLE (PARTICIPANT\", INVESTIGATOR,\" OUTCOMES_ASSESSOR)|Primary Purpose: BASIC_SCIENCE', '2023-10-25', '2024-08']\n['\"NCT00237471', 'Impact of Tight Glycaemic Control in Acute Myocardial Infarction', '', 'TERMINATED', 'Myocardial Infarct|Hyperglycemia', 'DRUG: Insulin (tight blood glucose control)', 'Melbourne Health', 'National Health and Medical Research Council\",\" Australia|Bristol-Myers Squibb', '40.0', 'OTHER', 'INTERVENTIONAL', 'Allocation: RANDOMIZED|Intervention Model: PARALLEL|Masking: NONE|Primary Purpose: TREATMENT', '2005-10', '2006-05']\n['\"NCT03820271', 'New Prognostic Predictive Models of Mortality of Decompensated Cirrhotic Patients Waiting for Liver Transplantation', 'SUPERMELD', 'RECRUITING', 'Decompensated Cirrhosis|Liver Transplantation', 'OTHER: SuperMELD', 'Assistance Publique - Hôpitaux de Paris', '', '500.0', 'OTHER', 'INTERVENTIONAL', 'Allocation: NA|Intervention Model: SINGLE_GROUP|Masking: NONE|Primary Purpose: OTHER', '2020-10-01', '2023-10-01']\n['\"NCT06229171', 'InTake Care: Development and Validation of an Innovative\",\" Personalized Digital Health Solution for Medication Adherence Support in Cardiovascular Prevention', 'InTakeCare', 'NOT_YET_RECRUITING', 'Hypertension|Treatment Adherence and Compliance|Digital Health', 'OTHER: adherence support system based on a vocal assistant', 'Istituto Auxologico Italiano', 'Istituti Clinici Scientifici Maugeri SpA|Politecnico di Milano', '206.0', 'OTHER', 'INTERVENTIONAL', 'Allocation: RANDOMIZED|Intervention Model: PARALLEL|Masking: NONE|Primary Purpose: OTHER', '2024-10-01', '2026-04-01']\n['\"NCT02945371', 'Tailored Inhibitory Control Training to Reverse EA-linked Deficits in Mid-life', 'REV', 'COMPLETED', 'Smoking|Alcohol Drinking|Prescription Drug Abuse|Substance-Related Disorders|Oral Intake Reduced', 'BEHAVIORAL: Person-centered inhibitory control training|BEHAVIORAL: Active behavioral response training', 'University of Oregon', '', '103.0', 'OTHER', 'INTERVENTIONAL', 'Allocation: RANDOMIZED|Intervention Model: PARALLEL|Masking: SINGLE (PARTICIPANT)|Primary Purpose: PREVENTION', '2014-09', '2016-05']\n['\"NCT01055171', 'Neuromodulation of Trauma Memories in PTSD & Alcohol Dependence', '', 'COMPLETED', 'Alcohol Dependence|PTSD', 'DRUG: Propranolol|DRUG: Placebo', 'Medical University of South Carolina', 'National Institute on Alcohol Abuse and Alcoholism (NIAAA)', '44.0', 'OTHER', 'INTERVENTIONAL', 'Allocation: RANDOMIZED|Intervention Model: PARALLEL|Masking: QUADRUPLE (PARTICIPANT\", CARE_PROVIDER, INVESTIGATOR,\" OUTCOMES_ASSESSOR)|Primary Purpose: TREATMENT', '2010-01', '2012-08']\n['\"NCT01125371', 'Computerized Brief Alcohol Intervention (BI) for Binge Drinking HIV At-Risk and Infected Women', '', 'COMPLETED', 'Alcohol; Harmful Use|Binge Drinking|Risk Behavior|HIV Infection', 'BEHAVIORAL: Computerized brief alcohol intervention + IVR booster calls|BEHAVIORAL: Computerized brief alcohol intervention|BEHAVIORAL: Attention Control', 'Johns Hopkins University', 'National Institute on Alcohol Abuse and Alcoholism (NIAAA)', '439.0', 'OTHER', 'INTERVENTIONAL', 'Allocation: RANDOMIZED|Intervention Model: PARALLEL|Masking: DOUBLE (INVESTIGATOR\",\" OUTCOMES_ASSESSOR)|Primary Purpose: TREATMENT', '2011-10', '2016-06-07']\n['\"NCT02554071', 'Manitoba Pharmacist Initiated Smoking Cessation Pilot Project', '', 'COMPLETED', 'Smoking Cessation', 'OTHER: Pharmacist - Smoking Cessation Support', 'University of Manitoba', 'Govenment of Manitoba|Canadian Foundation for Pharmacy|Neighbourhood Pharmacy Association of Canada', '119.0', 'OTHER', 'INTERVENTIONAL', 'Allocation: NA|Intervention Model: SINGLE_GROUP|Masking: NONE|Primary Purpose: SUPPORTIVE_CARE', '2014-01', '2014-11']\n"
     ]
    }
   ],
   "source": [
    "# Views the Content of 'clinicaltrial_<year>'\n",
    "\n",
    "for row in clinicaltrial.take(10):\n",
    "        print(row)"
   ]
  },
  {
   "cell_type": "code",
   "execution_count": 0,
   "metadata": {
    "application/vnd.databricks.v1+cell": {
     "cellMetadata": {
      "byteLimit": 2048000,
      "rowLimit": 10000
     },
     "inputWidgets": {},
     "nuid": "cb95a78e-8e95-4b0a-8f8b-f2297e93a6a8",
     "showTitle": false,
     "title": ""
    }
   },
   "outputs": [
    {
     "output_type": "stream",
     "name": "stdout",
     "output_type": "stream",
     "text": [
      "['\"Company', 'Parent_Company', 'Penalty_Amount', 'Subtraction_From_Penalty', 'Penalty_Amount_Adjusted_For_Eliminating_Multiple_Counting', 'Penalty_Year', 'Penalty_Date', 'Offense_Group', 'Primary_Offense', 'Secondary_Offense', 'Description', 'Level_of_Government', 'Action_Type', 'Agency', 'Civil/Criminal', 'Prosecution_Agreement', 'Court', 'Case_ID', 'Private_Litigation_Case_Title', 'Lawsuit_Resolution', 'Facility_State', 'City', 'Address', 'Zip', 'NAICS_Code', 'NAICS_Translation', 'HQ_Country_of_Parent', 'HQ_State_of_Parent', 'Ownership_Structure', 'Parent_Company_Stock_Ticker', 'Major_Industry_of_Parent', 'Specific_Industry_of_Parent', 'Info_Source', 'Notes\"']\n['\"Abbott Laboratories', 'Abbott Laboratories', '$5,475,000', '$0', '$5,475,000', '2013', '20131227', 'government-contracting-related offenses', 'False Claims Act and related', 'kickbacks and bribery', \"Abbott Laboratories agreed to $5.475 million to resolve allegations that it violated the False Claims Act by paying kickbacks to induce doctors to implant the company's carotid, biliary and peripheral vascular products.\", 'federal', 'agency action', 'Justice Department Civil Division', 'civil', '', '', '', '', '', '', '', '', '', '', '', 'USA', 'Illinois', 'publicly traded', 'ABT', 'pharmaceuticals', 'pharmaceuticals', 'https://www.justice.gov/opa/pr/abbott-laboratories-pays-us-5475-million-settle-claims-company-paid-kickbacks-physicians', '\"']\n['\"Abbott Laboratories Inc.', 'AbbVie', '$1,500,000,000', '$0', '$1,500,000,000', '2012', '20120507', 'healthcare-related offenses', 'off-label or unapproved promotion of medical products', '', \"Global Health Care Company Abbott Laboratories Inc. has pleaded guilty and agreed to pay $1.5 billion to resolve its criminal and civil liability arising from the company's unlawful promotion of the prescription drug Depakote for uses not approved as safe and effective by the Food and Drug Administration. The resolution - the second largest payment by a drug company - includes a criminal fine and forfeiture totaling $700 million and civil settlements with the federal government and the states totaling $800 million. Abbott also will be subject to court-supervised probation and reporting obligations for Abbotts CEO and Board of Directors.\", 'federal', 'agency action', 'Food and Drug Administration referral to the Justice Department', 'civil and criminal', '', '', '', '', '', '', '', '', '', '', '', 'USA', 'Illinois', 'publicly traded', 'ABBV', 'pharmaceuticals', 'pharmaceuticals', 'http://www.justice.gov/opa/pr/abbott-labs-pay-15-billion-resolve-criminal-civil-investigations-label-promotion-depakote', '\"']\n['\"Abbott Laboratories Inc.', 'AbbVie', '$126,500,000', '$0', '$126,500,000', '2010', '20101207', 'government-contracting-related offenses', 'False Claims Act and related', '', 'Abbott Laboratories Inc., B. Braun Medical Inc. and Roxane Laboratories Inc. n/k/a Boehringer Ingelheim Roxane Inc. and affiliated entities agreed to pay $421 million to settle False Claims Act allegations, that they engaged in a scheme to report false and inflated prices for numerous pharmaceutical products knowing that federal healthcare programs relied on those reported prices to set payment rates.', 'federal', 'agency action', 'Justice Department Civil Division', 'civil', '', '', '', '', '', '', '', '', '', '', '', 'USA', 'Illinois', 'publicly traded', 'ABBV', 'pharmaceuticals', 'pharmaceuticals', 'https://www.justice.gov/opa/pr/pharmaceutical-manufacturers-pay-4212-million-settle-false-claims-act-cases', '\"']\n['\"Abbott Laboratories Puerto Rico, Inc.', 'Abbott Laboratories', '$49,045', '$0', '$49,045', '2009', '20090305', 'employment-related offenses', 'wage and hour violation', 'Fair Labor Standards Act', '', 'federal', 'agency action', 'Labor Department Wage and Hour Division', 'civil', '', '', '1527129', '', '', 'Puerto Rico', 'San Juan', '', '', '423450', '423450: Medical, Dental, and Hospital Equipment and Supplies Merchant Wholesalers', 'USA', 'Illinois', 'publicly traded', 'ABT', 'pharmaceuticals', 'pharmaceuticals', 'March 7, 2017 download of a dataset posted by the Wage and Hour Division at https://enforcedata.dol.gov/views/data_summary.php', 'Date and year are the Findings End Date in the dataset posted by the Wage and Hour Division, which does not provide case opening or closing dates. The company name is the Legal Name provided by the dataset unless that field is blank, in which case the Trade Name is used. The dataset provides only one address and does not indicate whether it is the company headquarters address or the establishment address. The penalty amount is the total of civil monetary penalties and mandated back wages. The original dataset provides a breakdown.\"']\n['\"Acclarent Inc.', 'Johnson & Johnson', '$18,000,000', '$0', '$18,000,000', '2016', '20160722', 'government-contracting-related offenses', 'False Claims Act and related', '', 'California-based medical device manufacturer Acclarent Inc., a subsidiary of Johnson & Johnson, agreed to pay $18 million to resolve allegations that the company caused health care providers to submit false claims to Medicare and other federal health care programs by marketing and distributing its sinus spacer product for use as a drug delivery device without Food and Drug Administration approval.', 'federal', 'agency action', 'Justice Department Civil Division', 'civil', '', '', '', '', '', '', '', '', '', '', '', 'USA', 'New Jersey', 'publicly traded', 'JNJ', 'pharmaceuticals', 'pharmaceuticals', 'https://www.justice.gov/opa/pr/johnson-johnson-subsidiary-acclarent-inc-pays-government-18-million-settle-false-claims-act', '\"']\n['\"Advanced Medical Optics', 'Abbott Laboratories', '$16,800', '$0', '$16,800', '2004', '20040412', 'employment-related offenses', 'labor relations violation', '', 'back pay award in unfair labor practices case', 'federal', 'agency action', 'National Labor Relations Board', 'civil', '', '', '21-CA-36104-001', '', '', 'California', 'Irvine', '', '92606', '333314', '333314: Optical Instrument and Lens Manufacturing', 'USA', 'Illinois', 'publicly traded', 'ABT', 'pharmaceuticals', 'pharmaceuticals', 'Extracted from an NLRB dataset covering 1999-2011 downloaded at https://catalog.data.gov/dataset/nlrb-cats-final-c-case-data-bulk-19990101-20110930-in-xml', '\"']\n['\"Advanced Neuromodulation Systems, Inc.', 'Abbott Laboratories', '$2,950,000', '$0', '$2,950,000', '2007', '20070702', 'healthcare-related offenses', 'HHS civil monetary penalties', 'kickbacks and bribery', 'The HHS Inspector General announced that Advanced Neuromodulation Systems, Inc.,  a medical device manufacturer specializing in spinal cord stimulation used for pain management, agreed to pay $2.95 million to settle allegations that it paid kickbacks to physicians in violation of the Civil Monetary Penalties Law (CMPL). The company also entered into a 3-year Corporate Integrity Agreement.', 'federal', 'agency action', 'Health & Human Services Department Office of Inspector General', 'civil', '', '', '', '', '', '', '', '', '', '', '', 'USA', 'Illinois', 'publicly traded', 'ABT', 'pharmaceuticals', 'pharmaceuticals', 'https://oig.hhs.gov/publications/docs/press/2007/ANS%20Press%20Release.pdf', '\"']\n['\"Advanced Sterilization Products', 'Johnson & Johnson', '$136,800', '$0', '$136,800', '2014', '20140520', 'environment-related offenses', 'environmental violation', '', 'The U.S. Environmental Protection Agency announced that an Irvine, Calif. company, Advanced Sterilization Products, has agreed to pay a $136,800 penalty for the sale and distribution of unregistered and misbranded pesticides to veterinary clinics and laboratories nationwide.', 'federal', 'agency action', 'Environmental Protection Agency', 'civil', '', '', '', '', '', 'California', 'Irvine', '', '', '', '', 'USA', 'New Jersey', 'publicly traded', 'JNJ', 'pharmaceuticals', 'pharmaceuticals', 'https://archive.epa.gov/epapages/newsroom_archive/newsreleases/8e820317c86e4c5685257cde00717855.html', '\"']\n['\"Advanced Sterilization Products, a division of Ethicon Inc.', 'Johnson & Johnson', '$1,200,000', '$0', '$1,200,000', '2013', '20131204', 'safety-related offenses', 'drug or medical equipment safety violation', '', \"Settlement of a civil money penalty action against Advanced Sterilization Products, a division of Ethicon Inc., a Johnson & Johnson company, and two of ASP's executives alleging that ASP manufactured and distributed adulterated and misbranded sterilization monitoring products.\", 'federal', 'agency action', 'Food and Drug Administration', 'civil', '', '', '', '', '', 'California', 'Irvine', '', '', '', '', 'USA', 'New Jersey', 'publicly traded', 'JNJ', 'pharmaceuticals', 'pharmaceuticals', 'http://www.fda.gov/NewsEvents/Newsroom/PressAnnouncements/ucm377588.htm', '\"']\n"
     ]
    }
   ],
   "source": [
    "# Views the Content of 'pharma'\n",
    "\n",
    "for row in pharma.take(10):\n",
    "    print(row)"
   ]
  },
  {
   "cell_type": "code",
   "execution_count": 0,
   "metadata": {
    "application/vnd.databricks.v1+cell": {
     "cellMetadata": {
      "byteLimit": 2048000,
      "rowLimit": 10000
     },
     "inputWidgets": {},
     "nuid": "c83f1b96-0579-4317-9d70-6137365a8cf9",
     "showTitle": false,
     "title": ""
    }
   },
   "outputs": [],
   "source": [
    "# Maps the Headers in 'clinicaltrial_<year>' & 'pharma'\n",
    "\n",
    "clinicaltrial_header = clinicaltrial.first()\n",
    "pharma_header = pharma.first()"
   ]
  },
  {
   "cell_type": "code",
   "execution_count": 0,
   "metadata": {
    "application/vnd.databricks.v1+cell": {
     "cellMetadata": {
      "byteLimit": 2048000,
      "rowLimit": 10000
     },
     "inputWidgets": {},
     "nuid": "37cd6b1e-16f0-4cd0-9233-6438a0330a42",
     "showTitle": false,
     "title": ""
    }
   },
   "outputs": [
    {
     "output_type": "execute_result",
     "data": {
      "text/plain": [
       "['\"Id',\n",
       " 'Study Title',\n",
       " 'Acronym',\n",
       " 'Status',\n",
       " 'Conditions',\n",
       " 'Interventions',\n",
       " 'Sponsor',\n",
       " 'Collaborators',\n",
       " 'Enrollment',\n",
       " 'Funder Type',\n",
       " 'Type',\n",
       " 'Study Design',\n",
       " 'Start',\n",
       " 'Completion']"
      ]
     },
     "execution_count": 20,
     "metadata": {},
     "output_type": "execute_result"
    }
   ],
   "source": [
    "clinicaltrial_header"
   ]
  },
  {
   "cell_type": "code",
   "execution_count": 0,
   "metadata": {
    "application/vnd.databricks.v1+cell": {
     "cellMetadata": {
      "byteLimit": 2048000,
      "rowLimit": 10000
     },
     "inputWidgets": {},
     "nuid": "f30f2d1b-99e0-4efb-a7db-eb7d07076a54",
     "showTitle": false,
     "title": ""
    }
   },
   "outputs": [
    {
     "output_type": "stream",
     "name": "stdout",
     "output_type": "stream",
     "text": [
      "Acronym: 350182\nCollaborators: 325504\nStart: 5144\nCompletion: 16861\nInterventions: 47947\nEnrollment: 6919\nConditions: 922\nFunder Type: 889\nType: 889\nStudy Design: 1817\n"
     ]
    }
   ],
   "source": [
    "# Counts the Null Values in 'clinicaltrial_<year>'\n",
    "\n",
    "missing_counts_clinicaltrial = clinicaltrial \\\n",
    "                .flatMap(lambda x: [col_name for col_name, value in zip(clinicaltrial_header, x) if value == '']) \\\n",
    "                .countByValue()\n",
    "\n",
    "for col_name, missing_count in missing_counts_clinicaltrial.items():\n",
    "    print(f\"{col_name}: {missing_count}\")"
   ]
  },
  {
   "cell_type": "code",
   "execution_count": 0,
   "metadata": {
    "application/vnd.databricks.v1+cell": {
     "cellMetadata": {
      "byteLimit": 2048000,
      "rowLimit": 10000
     },
     "inputWidgets": {},
     "nuid": "86688917-4195-4dc9-b783-eb55fca18ebd",
     "showTitle": false,
     "title": ""
    }
   },
   "outputs": [
    {
     "output_type": "stream",
     "name": "stdout",
     "output_type": "stream",
     "text": [
      "Prosecution_Agreement: 949\nCourt: 936\nCase_ID: 771\nPrivate_Litigation_Case_Title: 936\nLawsuit_Resolution: 936\nFacility_State: 467\nCity: 769\nAddress: 845\nZip: 826\nNAICS_Code: 848\nNAICS_Translation: 865\nSecondary_Offense: 808\nDescription: 298\nHQ_State_of_Parent: 434\nParent_Company_Stock_Ticker: 246\nAgency: 31\nInfo_Source: 3\n"
     ]
    }
   ],
   "source": [
    "# Counts the Null Values in 'pharma'\n",
    "\n",
    "missing_counts_pharma = pharma \\\n",
    "                .flatMap(lambda x: [col_name for col_name, value in zip(pharma_header, x) if value == '']) \\\n",
    "                .countByValue()\n",
    "\n",
    "for col_name, missing_count in missing_counts_pharma.items():\n",
    "    print(f\"{col_name}: {missing_count}\")"
   ]
  },
  {
   "cell_type": "code",
   "execution_count": 0,
   "metadata": {
    "application/vnd.databricks.v1+cell": {
     "cellMetadata": {
      "byteLimit": 2048000,
      "rowLimit": 10000
     },
     "inputWidgets": {},
     "nuid": "2c4a15ae-d667-4d1c-adc3-8770afac61e4",
     "showTitle": false,
     "title": ""
    }
   },
   "outputs": [],
   "source": [
    "# Removes the Headers in 'clinicaltrial_<year>' & 'pharma'\n",
    "\n",
    "clinicaltrial = clinicaltrial.filter(lambda x: x != clinicaltrial_header)\n",
    "pharma = pharma.filter(lambda x: x != pharma_header)"
   ]
  },
  {
   "cell_type": "code",
   "execution_count": 0,
   "metadata": {
    "application/vnd.databricks.v1+cell": {
     "cellMetadata": {
      "byteLimit": 2048000,
      "rowLimit": 10000
     },
     "inputWidgets": {},
     "nuid": "5526da78-432a-4f46-a2e5-37971f0e2e23",
     "showTitle": false,
     "title": ""
    }
   },
   "outputs": [
    {
     "output_type": "stream",
     "name": "stdout",
     "output_type": "stream",
     "text": [
      "Total Studies 2023: 483420\n"
     ]
    }
   ],
   "source": [
    "# Question 1 - Counts the Number of Distinct Studies\n",
    "\n",
    "total_studies = clinicaltrial.map(lambda x: x[0]) \\\n",
    "                .distinct() \\\n",
    "                .count() \n",
    "\n",
    "print(f\"Total Studies {YEAR}: {total_studies}\")"
   ]
  },
  {
   "cell_type": "code",
   "execution_count": 0,
   "metadata": {
    "application/vnd.databricks.v1+cell": {
     "cellMetadata": {
      "byteLimit": 2048000,
      "rowLimit": 10000
     },
     "inputWidgets": {},
     "nuid": "2355fa8c-66dc-429c-9846-69d278006eb4",
     "showTitle": false,
     "title": ""
    }
   },
   "outputs": [
    {
     "output_type": "stream",
     "name": "stdout",
     "output_type": "stream",
     "text": [
      "Types of Studies 2023\nINTERVENTIONAL: 371382\nOBSERVATIONAL: 110221\nEXPANDED_ACCESS: 928\n: 889\n"
     ]
    }
   ],
   "source": [
    "# Question 2 - Lists the Types of Studies with Frequency\n",
    "idx = -1\n",
    "for i in clinicaltrial_header:\n",
    "    idx = idx + 1\n",
    "    if(i == \"Type\"):\n",
    "        break\n",
    "types_frequency = clinicaltrial \\\n",
    "        .map(lambda x: x[idx]) \\\n",
    "        .countByValue()\n",
    "    \n",
    "types_sorted = sorted(types_frequency.items(), key=lambda x: -x[1])\n",
    "\n",
    "print(f\"Types of Studies {YEAR}\")\n",
    "for types, count in types_sorted:\n",
    "    print(f\"{types}: {count}\")"
   ]
  },
  {
   "cell_type": "code",
   "execution_count": 0,
   "metadata": {
    "application/vnd.databricks.v1+cell": {
     "cellMetadata": {
      "byteLimit": 2048000,
      "rowLimit": 10000
     },
     "inputWidgets": {},
     "nuid": "f87822e0-27a2-45ad-a073-c91dfd5f2c5d",
     "showTitle": false,
     "title": ""
    }
   },
   "outputs": [
    {
     "output_type": "stream",
     "name": "stdout",
     "output_type": "stream",
     "text": [
      "Top 5 Conditions 2023\nHealthy: 9731\nBreast Cancer: 7502\nObesity: 6549\nStroke: 4071\nHypertension: 4020\n"
     ]
    }
   ],
   "source": [
    "# Question 3 - Lists the Top 5 Conditions with Frequency\n",
    "idx = -1\n",
    "for i in clinicaltrial_header:\n",
    "    idx = idx + 1\n",
    "    if(i == \"Conditions\"):\n",
    "        break\n",
    "\n",
    "conditions_frequency = clinicaltrial \\\n",
    "                        .flatMap(lambda x: x[idx].split('|')) \\\n",
    "                        .filter(lambda x: x != '') \\\n",
    "                        .countByValue()\n",
    "\n",
    "conditions_sorted = sorted(conditions_frequency.items(), key=lambda x: -x[1])[:5]\n",
    "\n",
    "print(f\"Top 5 Conditions {YEAR}\")\n",
    "for condition, count in conditions_sorted:\n",
    "    print(f\"{condition}: {count}\")"
   ]
  },
  {
   "cell_type": "code",
   "execution_count": 0,
   "metadata": {
    "application/vnd.databricks.v1+cell": {
     "cellMetadata": {
      "byteLimit": 2048000,
      "rowLimit": 10000
     },
     "inputWidgets": {},
     "nuid": "34a9d6ea-8b29-4260-9dd5-d6511ad173b4",
     "showTitle": false,
     "title": ""
    }
   },
   "outputs": [
    {
     "output_type": "stream",
     "name": "stdout",
     "output_type": "stream",
     "text": [
      "Top 10 Most Common Non-Pharmaceutical Sponsors 2023\nNational Cancer Institute (NCI): 3410\nAssiut University: 3335\nCairo University: 3023\nAssistance Publique - Hôpitaux de Paris: 2951\nMayo Clinic: 2766\nM.D. Anderson Cancer Center: 2702\nNovartis Pharmaceuticals: 2393\nNational Institute of Allergy and Infectious Diseases (NIAID): 2340\nMassachusetts General Hospital: 2263\nNational Taiwan University Hospital: 2181\n"
     ]
    }
   ],
   "source": [
    "# Question 4 - Lists the Top 10 Most Common Non-Pharmaceutical Sponsors with Clinical Trials\n",
    "\n",
    "pharma_filtered = pharma \\\n",
    "                .map(lambda x: x[1]) \\\n",
    "                .collect()\n",
    "\n",
    "idx = -1\n",
    "for i in clinicaltrial_header:\n",
    "    idx = idx + 1\n",
    "    if(i == \"Sponsor\"):\n",
    "        break\n",
    "\n",
    "clinicaltrial_filtered = clinicaltrial \\\n",
    "                .filter(lambda x: x[idx] not in pharma_filtered)\n",
    "\n",
    "sponsor_count = clinicaltrial_filtered \\\n",
    "                .map(lambda x: (x[idx],1)) \\\n",
    "                .reduceByKey(lambda a, b: a + b) \\\n",
    "                .sortBy(lambda x: -x[1]) \\\n",
    "                .take(10)\n",
    "\n",
    "\n",
    "# sponsor_count = clinicaltrial_filtered \\\n",
    "#                 .map(lambda x: (x[idx])) \\\n",
    "#                 .take(10)\n",
    "\n",
    "print(f\"Top 10 Most Common Non-Pharmaceutical Sponsors {YEAR}\")\n",
    "for sponsor, count in sponsor_count:\n",
    "    print(f\"{sponsor}: {count}\")"
   ]
  },
  {
   "cell_type": "code",
   "execution_count": 0,
   "metadata": {
    "application/vnd.databricks.v1+cell": {
     "cellMetadata": {
      "byteLimit": 2048000,
      "rowLimit": 10000
     },
     "inputWidgets": {},
     "nuid": "a578aa3f-8057-4877-a0d9-4d515e187ef3",
     "showTitle": false,
     "title": ""
    }
   },
   "outputs": [
    {
     "output_type": "execute_result",
     "data": {
      "text/plain": [
       "[('National Cancer Institute (NCI)', 3410),\n",
       " ('Assiut University', 3335),\n",
       " ('Cairo University', 3023),\n",
       " ('Assistance Publique - Hôpitaux de Paris', 2951),\n",
       " ('Mayo Clinic', 2766),\n",
       " ('M.D. Anderson Cancer Center', 2702),\n",
       " ('Novartis Pharmaceuticals', 2393),\n",
       " ('National Institute of Allergy and Infectious Diseases (NIAID)', 2340),\n",
       " ('Massachusetts General Hospital', 2263),\n",
       " ('National Taiwan University Hospital', 2181)]"
      ]
     },
     "execution_count": 28,
     "metadata": {},
     "output_type": "execute_result"
    }
   ],
   "source": [
    "sponsor_count"
   ]
  },
  {
   "cell_type": "code",
   "execution_count": 0,
   "metadata": {
    "application/vnd.databricks.v1+cell": {
     "cellMetadata": {
      "byteLimit": 2048000,
      "rowLimit": 10000
     },
     "inputWidgets": {},
     "nuid": "2f4f991e-84c1-405f-b894-f0d478124b11",
     "showTitle": false,
     "title": ""
    }
   },
   "outputs": [
    {
     "output_type": "stream",
     "name": "stdout",
     "output_type": "stream",
     "text": [
      "Completed Studies 2023\nJan: 1494\nFeb: 1272\nMar: 1552\nApr: 1324\nMay: 1415\nJun: 1619\nJul: 1360\nAug: 1230\nSep: 1152\nOct: 1058\nNov: 909\nDec: 1082\n"
     ]
    }
   ],
   "source": [
    "# Question 5 - Lists the Completed Studies Each Month in a Given Year\n",
    "\n",
    "from datetime import datetime\n",
    "def parse_date(date_str):\n",
    "        formats = ['%Y-%m', '%Y-%m-%d', '%d-%b-%Y', '%b %Y']\n",
    "        for fmt in formats:\n",
    "            try:\n",
    "                return datetime.strptime(date_str, fmt).replace(day=1)\n",
    "            except ValueError:\n",
    "                continue\n",
    "        return None\n",
    "\n",
    "idx = -1\n",
    "for i in clinicaltrial_header:\n",
    "    idx = idx + 1\n",
    "    if(i == \"Status\"):\n",
    "        break\n",
    "\n",
    "idx2 = -1\n",
    "for i in clinicaltrial_header:\n",
    "    idx2 = idx2 + 1\n",
    "    if(i == \"Completion\"):\n",
    "        break\n",
    "completed_studies = clinicaltrial \\\n",
    "                    .filter(lambda x: (x[idx] == \"COMPLETED\" or x[idx] == \"Completed\") and len(x[idx2])>5) \\\n",
    "                    .map(lambda x: (parse_date(x[idx2]), 1)) \\\n",
    "                    .filter(lambda x: x[0].year == YEAR) \\\n",
    "                    .reduceByKey(lambda a, b: a + b) \\\n",
    "                    .sortByKey() \\\n",
    "                    .collect()\n",
    "\n",
    "print(f\"Completed Studies {YEAR}\")\n",
    "for month, count in completed_studies:\n",
    "    print(f\"{month.strftime('%b')}: {count}\")\n"
   ]
  },
  {
   "cell_type": "code",
   "execution_count": 0,
   "metadata": {
    "application/vnd.databricks.v1+cell": {
     "cellMetadata": {
      "byteLimit": 2048000,
      "rowLimit": 10000
     },
     "inputWidgets": {},
     "nuid": "011a8577-6ed8-47f3-93c9-fa9d4637f921",
     "showTitle": false,
     "title": ""
    }
   },
   "outputs": [
    {
     "output_type": "display_data",
     "data": {
      "image/png": "[encoded data removed]",
      "text/plain": [
       "<Figure size 1000x600 with 1 Axes>"
      ]
     },
     "metadata": {},
     "output_type": "display_data"
    }
   ],
   "source": [
    "# visualization 0f Q5 in RDD\n",
    "import matplotlib.pyplot as plt\n",
    "\n",
    "# Extracting month names and counts from completed_studies\n",
    "months = [month.strftime('%b') for month, _ in completed_studies]\n",
    "counts = [count for _, count in completed_studies]\n",
    "\n",
    "# Plotting\n",
    "plt.figure(figsize=(10, 6))\n",
    "plt.plot(months, counts, marker='o', linestyle='-')\n",
    "plt.title(f\"Completed Studies in {YEAR}\")\n",
    "plt.xlabel(\"Month\")\n",
    "plt.ylabel(\"Number of Studies\")\n",
    "plt.grid(True)\n",
    "plt.xticks(rotation=45)  # Rotate x-axis labels for better readability\n",
    "plt.tight_layout()\n",
    "\n",
    "# Show plot\n",
    "plt.show()"
   ]
  },
  {
   "cell_type": "code",
   "execution_count": 0,
   "metadata": {
    "application/vnd.databricks.v1+cell": {
     "cellMetadata": {
      "byteLimit": 2048000,
      "rowLimit": 10000
     },
     "inputWidgets": {},
     "nuid": "0d2d4c75-edcb-4eed-b682-62cc2d3fe55a",
     "showTitle": false,
     "title": ""
    }
   },
   "outputs": [
    {
     "output_type": "stream",
     "name": "stdout",
     "output_type": "stream",
     "text": [
      "Sponsors Currently Recruiting 2023\nM.D. Anderson Cancer Center: 543\nAssistance Publique - Hôpitaux de Paris: 497\nMayo Clinic: 483\nCairo University: 361\nNational Cancer Institute (NCI): 360\nVA Office of Research and Development: 360\nMemorial Sloan Kettering Cancer Center: 349\nMassachusetts General Hospital: 336\nChinese University of Hong Kong: 328\nSun Yat-sen University: 319\n"
     ]
    }
   ],
   "source": [
    "# Extra Analysis - Lists the Sponsors Recruiting with Clinical Trials\n",
    "idx = -1\n",
    "for i in clinicaltrial_header:\n",
    "    idx = idx + 1\n",
    "    if(i == \"Status\"):\n",
    "        break\n",
    "\n",
    "idx2 =-1\n",
    "\n",
    "for i in clinicaltrial_header:\n",
    "    idx2 = idx2 + 1\n",
    "    if(i == \"Sponsor\"):\n",
    "        break\n",
    "sponsor_count = clinicaltrial \\\n",
    "                 .filter(lambda x: x[idx] == \"Recruiting\" or x[idx] == \"RECRUITING\") \\\n",
    "                 .map(lambda x: (x[idx2], 1)) \\\n",
    "                 .reduceByKey(lambda a, b: a + b) \\\n",
    "                 .sortBy(lambda x: -x[1]) \\\n",
    "                 .take(10)\n",
    "\n",
    "print(f\"Sponsors Currently Recruiting {YEAR}\")\n",
    "for sponsor, count in sponsor_count:\n",
    "    print(f\"{sponsor}: {count}\")"
   ]
  }
 ],
 "metadata": {
  "application/vnd.databricks.v1+notebook": {
   "dashboards": [],
   "language": "python",
   "notebookMetadata": {
    "mostRecentlyExecutedCommandWithImplicitDF": {
     "commandId": 2508039497024370,
     "dataframes": [
      "_sqldf"
     ]
    },
    "pythonIndentUnit": 4
   },
   "notebookName": "Harshalsihji_Kuwar_rdd",
   "widgets": {}
  },
  "language_info": {
   "name": "python"
  }
 },
 "nbformat": 4,
 "nbformat_minor": 0
}
